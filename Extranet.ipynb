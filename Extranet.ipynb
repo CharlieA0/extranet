{
 "cells": [
  {
   "cell_type": "markdown",
   "metadata": {},
   "source": [
    "# Imports"
   ]
  },
  {
   "cell_type": "code",
   "execution_count": 9,
   "metadata": {},
   "outputs": [],
   "source": [
    "import networkx as nx\n",
    "import matplotlib as plt\n",
    "import numpy as np\n",
    "\n",
    "\n"
   ]
  },
  {
   "cell_type": "markdown",
   "metadata": {},
   "source": [
    "# Definitions"
   ]
  },
  {
   "cell_type": "code",
   "execution_count": 20,
   "metadata": {},
   "outputs": [],
   "source": [
    "from enum import Enum\n",
    "\n",
    "\n",
    "class DeviceInfo:\n",
    "    \n",
    "    def __init__(self, name, bandwidth, orbital_period, storage):\n",
    "        self._name = name\n",
    "        self._bandwidth = bandwidth\n",
    "        self._orbital_period = orbital_period\n",
    "        self._storage = storage\n",
    "\n",
    "        \n",
    "class Planets(Enum):\n",
    "    Earth = 1\n",
    "    Relay = 2\n",
    "    Mars  = 3\n",
    "    Moon  = 4\n",
    "        \n",
    "        \n",
    "device_types = {\n",
    "    \"Earth Antenna\": DeviceInfo(\"Earth Antenna\", 2, Planets.Earth, 10),\n",
    "    \"LEO\": DeviceInfo(\"LEO\", 2, 5400, 0.5),\n",
    "    \"GEO\": DeviceInfo(\"GEO\", 1.2, 86400, 0.5),\n",
    "    \"Relay\": DeviceInfo(\"Relay\", 0.622, Planets.Relay, 0.5),\n",
    "    \"Moon Antenna\": DeviceInfo(\"Moon Antenna\", 0.622, Planets.Moon, 10),\n",
    "    \"Mars Antenna\": DeviceInfo(\"Mars Antenna\", 0.622, Planets.Mars, 10),\n",
    "}\n",
    "\n",
    "\n",
    "class OptionalFlags(Enum):\n",
    "    fragment  = 1\n",
    "    administrative_record = 2\n",
    "    no_fragment = 3\n",
    "    custody_transfer = 4\n",
    "    application_ack = 5\n",
    "    status_time = 6\n",
    "    reception_status = 7\n",
    "    custody_accept_report = 8\n",
    "    forward_report = 9\n",
    "    delivery_report = 10\n",
    "    deletion_report = 11\n",
    "    \n",
    "    \n",
    "class Flags:\n",
    "    \n",
    "    def __init__(self, priority, optional_flags=None):\n",
    "        \n",
    "        if optional_flags is None:\n",
    "            optional_flags = set()\n",
    "            \n",
    "        self._priority = priority\n",
    "        self._optional_flags = optional_flags\n",
    "        \n",
    "    @property\n",
    "    def flags(self):\n",
    "        return self._optional_flags + {self._priority}\n",
    "\n",
    "\n",
    "class BundleNode:\n",
    "    \n",
    "    def __init__(self, device_type):\n",
    "        self._type = device_type\n",
    "        self._connections = set()\n",
    "    \n",
    "    def __str__(self):\n",
    "        return self._type._name\n",
    "    \n",
    "    def transmit(self):\n",
    "        return self._out\n",
    "    \n",
    "    def receive(self, incoming):\n",
    "        self._incoming = incoming\n",
    "\n",
    "    \n",
    "class PrimaryBlock:\n",
    "    \n",
    "    def __init__(self, source, destination, report_to, bundle_id, flags=None):\n",
    "        \n",
    "        if flags is None:\n",
    "            flags = set()\n",
    "        \n",
    "        self._source = source\n",
    "        self._destination = destination\n",
    "        self._report_to = report_to\n",
    "        self._bundle_id = bundle_id\n",
    "        self._flags = flags\n",
    "\n",
    "        \n",
    "class Bundle:\n",
    "    \n",
    "    def __init__(self, source, destination, report_to, bundle_id, flags=None):\n",
    "\n"
   ]
  },
  {
   "cell_type": "code",
   "execution_count": 21,
   "metadata": {},
   "outputs": [],
   "source": [
    "\n",
    "G = nx.Graph()\n",
    "\n",
    "def BundleProtocol(incoming_bundles, node, neighbors):\n",
    "    pass\n"
   ]
  },
  {
   "cell_type": "markdown",
   "metadata": {},
   "source": [
    "# Network"
   ]
  },
  {
   "cell_type": "code",
   "execution_count": 22,
   "metadata": {},
   "outputs": [],
   "source": [
    "\n",
    "earth_antenna = BundleNode(device_types[\"Earth Antenna\"])\n",
    "leo           = BundleNode(device_types[\"LEO\"])\n",
    "\n",
    "G.add_node(earth_antenna)\n",
    "G.add_node(leo)\n",
    "\n",
    "G.add_edge(earth_antenna, leo)\n"
   ]
  },
  {
   "cell_type": "markdown",
   "metadata": {},
   "source": [
    "# Simulation"
   ]
  },
  {
   "cell_type": "code",
   "execution_count": 24,
   "metadata": {},
   "outputs": [],
   "source": [
    "\n",
    "DT = 0.01         # seconds\n",
    "END_TIME = 100000 # seconds\n",
    "\n",
    "time = np.linspace(0, END_TIME, int(END_TIME/DT) + 2)\n",
    "\n",
    "for t in time:\n",
    "    pass\n",
    "\n"
   ]
  },
  {
   "cell_type": "code",
   "execution_count": 19,
   "metadata": {},
   "outputs": [
    {
     "data": {
      "image/png": "[encoded data removed]",
      "text/plain": [
       "<Figure size 432x288 with 1 Axes>"
      ]
     },
     "metadata": {},
     "output_type": "display_data"
    }
   ],
   "source": [
    "\n",
    "nx.draw(G, with_labels=True, font_weight='bold')\n"
   ]
  },
  {
   "cell_type": "code",
   "execution_count": null,
   "metadata": {},
   "outputs": [],
   "source": []
  }
 ],
 "metadata": {
  "kernelspec": {
   "display_name": "Python 3",
   "language": "python",
   "name": "python3"
  },
  "language_info": {
   "codemirror_mode": {
    "name": "ipython",
    "version": 3
   },
   "file_extension": ".py",
   "mimetype": "text/x-python",
   "name": "python",
   "nbconvert_exporter": "python",
   "pygments_lexer": "ipython3",
   "version": "3.8.0"
  }
 },
 "nbformat": 4,
 "nbformat_minor": 4
}
